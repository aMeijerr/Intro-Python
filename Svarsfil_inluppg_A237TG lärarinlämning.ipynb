{
 "cells": [
  {
   "cell_type": "code",
   "execution_count": null,
   "metadata": {},
   "outputs": [],
   "source": [
    "## Deluppgift 1\n",
    "Ev. kommentar:"
   ]
  },
  {
   "cell_type": "code",
   "execution_count": 1,
   "metadata": {},
   "outputs": [
    {
     "name": "stdout",
     "output_type": "stream",
     "text": [
      "Kameradata-filen:\n",
      "[['MätplatsID', 'Gällande Hastighet', 'Hastighet', 'Datum', 'Tid'], ['14075010', '40', '55', '2021-09-11', '11:15:31'], ['14075010', '40', '54', '2021-09-11', '08:09:17']]\n",
      "\n",
      "\n",
      "Platsdata-filen:\n",
      "[['MätplatsID', 'Namn', 'Vägnummer', 'Kommun'], ['14002010', 'Bhpl Gestadvägen', 'E45', 'Vänersborg'], ['14002020', 'Bhpl Gestadvägen', 'E45', 'Vänersborg']]\n"
     ]
    }
   ],
   "source": [
    "import csv\n",
    "\n",
    "def read_file(file_name):\n",
    "    with open(file_name, 'r') as f:\n",
    "        data = csv.reader(f, delimiter=\";\") #delar alla förekomster vid ;\n",
    "        data_list = list(data)\n",
    "        return data_list\n",
    "\n",
    "        \n",
    "\n",
    "kameradata = read_file('kameraData.csv')\n",
    "print(\"Kameradata-filen:\\n\" + str(kameradata[0:3])) #skriver ut index 0-3, 0, 1, 2\n",
    "print(\"\\n\") #skapar ny rad, endast för synes\n",
    "platsdata = read_file('platsData.csv')\n",
    "print(\"Platsdata-filen:\\n\" + str(platsdata[0:3]))\n",
    "\n"
   ]
  },
  {
   "cell_type": "markdown",
   "metadata": {},
   "source": [
    "## Deluppgift 2\n",
    "Ev. kommentar:"
   ]
  },
  {
   "cell_type": "code",
   "execution_count": 6,
   "metadata": {},
   "outputs": [
    {
     "name": "stdout",
     "output_type": "stream",
     "text": [
      "Det finns 69 mätningar där gällande hastighet är 40 km/h\n",
      "Det finns 96 mätningar där gällande hastighet är 50 km/h\n",
      "Det finns 204 mätningar där gällande hastighet är 60 km/h\n",
      "Det finns 389 mätningar där gällande hastighet är 70 km/h\n",
      "Det finns 471 mätningar där gällande hastighet är 80 km/h\n",
      "Det finns 94 mätningar där gällande hastighet är 90 km/h\n",
      "------------------------------------------------------------\n",
      "Totalt passerade 1323 bilar.\n"
     ]
    },
    {
     "data": {
      "image/png": "[encoded data removed]",
      "text/plain": [
       "<Figure size 432x288 with 1 Axes>"
      ]
     },
     "metadata": {
      "needs_background": "light"
     },
     "output_type": "display_data"
    }
   ],
   "source": [
    "import matplotlib.pyplot as plt\n",
    "\n",
    "def antal_bilar(kamera_data): #tar emot parametern hastighet för att läsa av bestämd hastighet\n",
    "    data = kamera_data #deklarerar variabeln data med all information från csv-filen    \n",
    "    \n",
    "    totalMätningar = []\n",
    "    hastighet = []\n",
    "    \n",
    "    for i in data[1:]: #gör en for-loop för att få ut alla aktuella hastighetsbegräsningar\n",
    "        if i[1] not in hastighet:\n",
    "            hastighet.append(i[1]) #hastighetsbegränsningarna appendas till ny array, med en koll så att inga duplicates appendas\n",
    "    \n",
    "    for km in hastighet:\n",
    "        summa_hastighet = sum([i[1].count(km) for i in data]) #räknar med sum ihop alla hastigheter som förekommer på index 1 (gällande hastighet i csv-filen) och sparar dessa i given variabel\n",
    "        totalMätningar.append(summa_hastighet) #lägger till summan av hastighet till en global array för mätning av totalsumma\n",
    "        print(f'Det finns {summa_hastighet} mätningar där gällande hastighet är {km} km/h')\n",
    "    \n",
    "    print('------------------------------------------------------------')\n",
    "    print(f'Totalt passerade {sum(totalMätningar)} bilar.')\n",
    "    \n",
    "#def bilar_stapel(mätningar):\n",
    "    x_koord = [40, 50, 60, 70, 80, 90]\n",
    "  \n",
    "    plt.figure(figsize = (6, 4))\n",
    " \n",
    "    # skapar bar plot med given x-koordinat samt parameter av totala mätningar\n",
    "    plt.bar(x_koord, totalMätningar, color ='b',\n",
    "        width = 0.8)\n",
    " \n",
    "    #labels och titel med fontsize och fontweight för att matcha mockup\n",
    "    plt.title('Antal fordon för varje gällande hastighet', fontsize= 14, fontweight='bold')\n",
    "    plt.xlabel('Gällande hastighet', fontsize= 12, fontweight='bold')\n",
    "    plt.ylabel('Antal passerande fordon', fontsize= 12, fontweight='bold')\n",
    "    \n",
    "    plt.grid()\n",
    "    plt.show()\n",
    "    \n",
    "def main():\n",
    "    antal_bilar(kameradata)  \n",
    "main()\n"
   ]
  },
  {
   "cell_type": "markdown",
   "metadata": {},
   "source": [
    "## Deluppgift 3\n",
    "Ev. kommentar:"
   ]
  },
  {
   "cell_type": "code",
   "execution_count": 7,
   "metadata": {},
   "outputs": [
    {
     "name": "stdout",
     "output_type": "stream",
     "text": [
      "Kommun         Antal kameror\n",
      "------------------------------\n",
      "Alingsås             7         \n",
      "Bengtsfors           8         \n",
      "Essunga              3         \n",
      "Falköping            28        \n",
      "Grästorp             7         \n",
      "Gullspång            6         \n",
      "Göteborg             23        \n",
      "Götene               5         \n",
      "Hjo                  10        \n",
      "Härryda              6         \n",
      "Kungälv              17        \n",
      "Lerum                2         \n",
      "Lidköping            6         \n",
      "Lilla Edet           5         \n",
      "Lysekil              10        \n",
      "Mariestad            24        \n",
      "Mark                 19        \n",
      "Mellerud             7         \n",
      "Mölndal              8         \n",
      "Orust                13        \n",
      "Skara                4         \n",
      "Skövde               18        \n",
      "Sotenäs              9         \n",
      "Strömstad            6         \n",
      "Svenljunga           2         \n",
      "Tibro                4         \n",
      "Tidaholm             6         \n",
      "Tjörn                9         \n",
      "Tranemo              11        \n",
      "Trollhättan          11        \n",
      "Töreboda             6         \n",
      "Uddevalla            17        \n",
      "Ulricehamn           8         \n",
      "Vara                 6         \n",
      "Vänersborg           12        \n",
      "Vårgårda             15        \n",
      "------------------------------\n",
      "Det finns totalt 359 kameror.\n"
     ]
    }
   ],
   "source": [
    "def antal_kameror(plats_data):\n",
    "    data = plats_data\n",
    "    \n",
    "    kommuner = []\n",
    "    \n",
    "    for i in data[1:]:\n",
    "        kommuner.append(i[3]) #skapar ny array för enklare översikt\n",
    "        \n",
    "    counts = {x:kommuner.count(x) for x in kommuner} #räknar alla \"duplicates\" i kommuner[] och sparar värdet i nycklar\n",
    "    \n",
    "    print('{:<14} {:<10}'.format('Kommun', \"Antal kameror\"))\n",
    "    print(\"------------------------------\")\n",
    "    \n",
    "    for key, value in sorted(counts.items()): #for-loop mot nyckel och värde i counts, samt i sorterad form genom sorted()\n",
    "        print('{:<20} {:<10}'.format(key, value)) #.format() istället för tabulering '\\t' för jämnhet\n",
    "    \n",
    "    print(\"------------------------------\")\n",
    "    summa = sum([i.count(i[3]) for i in data]) #totalt antal kameror\n",
    "    print(f'Det finns totalt {summa} kameror.')\n",
    "\n",
    "def main():\n",
    "    antal_kameror(platsdata)\n",
    "main()\n"
   ]
  },
  {
   "cell_type": "markdown",
   "metadata": {},
   "source": [
    "## Deluppgift 4\n",
    "Ändrade \"speed_diff >= 90\" till \"speed_diff > 90\" för att returnera rätt antal"
   ]
  },
  {
   "cell_type": "code",
   "execution_count": 8,
   "metadata": {},
   "outputs": [
    {
     "name": "stdout",
     "output_type": "stream",
     "text": [
      "Tid           MätplatsID Gällande Hastighet Hastighet       Datum\n",
      "----------------------------------------------------------------------\n",
      "07:45:29       14039010       70             135            2021-09-11     \n",
      "12:06:26       14007040       80             224            2021-09-11     \n",
      "12:32:28       14090060       70             159            2021-09-11     \n",
      "13:19:09       14090050       70             145            2021-09-11     \n",
      "15:05:15       14048010       60             163            2021-09-11     \n",
      "15:24:40       14052030       70             157            2021-09-11     \n",
      "17:09:19       14093020       70             140            2021-09-11     \n",
      "17:12:20       14066040       70             140            2021-09-11     \n",
      "17:27:51       14093040       70             138            2021-09-11     \n",
      "17:43:19       14052010       70             150            2021-09-11     \n",
      "17:52:57       14052040       70             170            2021-09-11     \n",
      "17:54:43       14052010       70             173            2021-09-11     \n",
      "Hastighetsöverträdelserna skedde vid följande 12 platser.\n",
      "Tid          MätplatsID   Kommun       Vägnummer    Hastighet    \n",
      "-------------------------------------------------------------\n",
      "07:45:29     14039010     Skara           49           135\n",
      "12:06:26     14007040     Mariestad       E20          224\n",
      "12:32:28     14090060     Strömstad       1040         159\n",
      "13:19:09     14090050     Strömstad       1040         145\n",
      "15:05:15     14048010     Tjörn           169          163\n",
      "15:24:40     14052030     Göteborg        587          157\n",
      "17:09:19     14093020     Göteborg        E6.21        140\n",
      "17:12:20     14066040     Kungälv         625          140\n",
      "17:27:51     14093040     Göteborg        E6.21        138\n",
      "17:43:19     14052010     Göteborg        587          150\n",
      "17:52:57     14052040     Göteborg        587          170\n",
      "17:54:43     14052010     Göteborg        587          173\n"
     ]
    },
    {
     "data": {
      "image/png": "[encoded data removed]",
      "text/plain": [
       "<Figure size 432x288 with 1 Axes>"
      ]
     },
     "metadata": {
      "needs_background": "light"
     },
     "output_type": "display_data"
    }
   ],
   "source": [
    "def percent(a,b): \n",
    "    if a and b is None: #felkoll för att se om funktionen tog emot sina parametrar\n",
    "        return None \n",
    "    result = round(((a-b) * 100) / b) #round för att skippa decimal\n",
    "    return result\n",
    "\n",
    "#4a\n",
    "def hastighetplus(kameradata):\n",
    "    data = kameradata\n",
    "    \n",
    "    plushastighet = []\n",
    "    titel = []\n",
    "    procentover = [] \n",
    "\n",
    "    for i in data[1:]: #kör loopen utan att från index 1, för att hoppa över \"titeln\"\n",
    "        speed_limit = int(i[1])\n",
    "        speed = int(i[2])\n",
    "        speed_diff = percent(speed, speed_limit)\n",
    "        if(speed_diff > 90): #90 för att kolla om hastigheten överskrider eller är exakt lika med 90%\n",
    "            procentover.append(speed_diff)\n",
    "            *arr, b = i #(destructuring?) pekar på sista elementet (b) så att vi kan byta plats\n",
    "            new_order = [b, *arr] #flyttar sista elementet till start\n",
    "            plushastighet.append(new_order)\n",
    "    \n",
    "    \n",
    "    for t in data[0]:\n",
    "        titel.append(t) #appendar alla titlar till ny array för att kunna använda indexering\n",
    "        \n",
    "    print(f'{titel[4]:13} {titel[0]:5} {titel[1]} {titel[2]:15} {titel[3]}') #hårdkodar istället ordningen genom användning av index\n",
    "    print('----------------------------------------------------------------------')\n",
    "    \n",
    "    for row in sorted(plushastighet): #for-loop mot nyckel och värde i counts, samt i sorterad form genom sorted()\n",
    "        for col in row:\n",
    "            print(\"{:14}\".format(col), end=\" \")\n",
    "        print(\"\")\n",
    "        #print(col, end=\" \") #skriver ut element separerade med ett mellanslag\n",
    "        #print() #Lägger till ny rad\n",
    "    \n",
    "    return plushastighet, procentover \n",
    " \n",
    "\n",
    "plus_hastighet, procent_over = hastighetplus(kameradata)\n",
    "\n",
    "\n",
    "#4b\n",
    "def hastighetplusdiagram(plus_hastighet, procent_over):\n",
    "    tid=[]\n",
    "    hastighet=[]\n",
    "    gällande_hastighet=[]\n",
    "    \n",
    "    for x in sorted(plus_hastighet):  #sorterar ut värden till 3 olika arrayer för att kunna skapa tabell   \n",
    "        tid.append(x[0]) #tidstämpel\n",
    "        hastighet.append(int(x[3])) #hastighet som hölls omvandlat till integer\n",
    "        gällande_hastighet.append(int(x[2])) #hastighetsbegränsning omvandlat till integer\n",
    "    \n",
    "    plt.barh(tid, hastighet, align='center', color='green', height = 0.3) #skapar stapel från hastighet, samt minskar height mot \"mockup\"\n",
    "    plt.barh(tid, gällande_hastighet, align='center', color='black', height = 0.6) #skapar stabel från hastighetbegräsning\n",
    "\n",
    "    plt.grid()\n",
    "    \n",
    "    plt.xlabel('Hastighet')\n",
    "    plt.ylabel('Tid')\n",
    "    plt.title(\"Tidpunkter där gällande hastighet överskreds med mer än 90%\")\n",
    "\n",
    "\n",
    "#4c\n",
    "def hastighetkommun(plus_hastighet, platsdata):\n",
    "        \n",
    "    hastighet_kommun = []\n",
    "    titel = [\"Tid\", \"MätplatsID\", \"Kommun\", \"Vägnummer\", \"Hastighet\"]\n",
    "    \n",
    "    for i in platsdata: #i ger tillgång till alla mätplatser, där i[0] är mätplatsID\n",
    "        for j in plus_hastighet: #j ger tillgång till alla överträdelser, där j[1] är mätplatsID\n",
    "                if i[0] == j[1]: #koll ifall mätplatsID matchar mellan id från mätplatser och id från hastighetsöverträdelser \n",
    "                \n",
    "                    list_item = []\n",
    "                    \n",
    "                    #lägger till alla attribut som efterfrågas i uppgiften i en ny array\n",
    "                    list_item.append(j[0])\n",
    "                    list_item.append(j[1])\n",
    "                    list_item.append(j[3])\n",
    "                    list_item.append(i[3])\n",
    "                    list_item.append(i[2])\n",
    "                    \n",
    "                    hastighet_kommun.append(list_item) #list_item som är en specifik mätplats appendas mot en array som sedan kan ritas ut genom indexering eller iterering\n",
    "\n",
    "    hastighet_kommun.sort() #sorterar listan innan print\n",
    "        \n",
    "    print(\"Hastighetsöverträdelserna skedde vid följande 12 platser.\")\n",
    "    for i in titel: #itererar över titel-array och printar ut\n",
    "        print(\"{:12}\".format(i), end=\" \")\n",
    "    print()       \n",
    "    print(\"-------------------------------------------------------------\")\n",
    "    \n",
    "\n",
    "    for rad in hastighet_kommun: #då hastighet_kommun blir en 2d-array så kan vi använda indexering för att printa ut valt information\n",
    "        print(f'{rad[0]:12} {rad[1]:12} {rad[3]:15} {rad[4]:12} {rad[2]}') #f-print med radavstånd\n",
    "\n",
    "        \n",
    "def main():\n",
    "    hastighetplusdiagram(plus_hastighet, procent_over)\n",
    "    hastighetkommun(plus_hastighet, platsdata)\n",
    "main()\n",
    "\n"
   ]
  },
  {
   "cell_type": "markdown",
   "metadata": {},
   "source": [
    "## Deluppgift 5\n",
    "Ev. kommentar:"
   ]
  },
  {
   "cell_type": "code",
   "execution_count": 9,
   "metadata": {},
   "outputs": [
    {
     "data": {
      "image/png": "[encoded data removed]",
      "text/plain": [
       "<Figure size 432x288 with 1 Axes>"
      ]
     },
     "metadata": {
      "needs_background": "light"
     },
     "output_type": "display_data"
    }
   ],
   "source": [
    "from datetime import datetime\n",
    "\n",
    "def bilar_timme(kamera_data):\n",
    "    data = kamera_data\n",
    "    \n",
    "    tid = []\n",
    "    tidslinje = ['07:00', '08:00', '09:00', '10:00', '11:00', '12:00', '13:00', '14:00', '15:00', '16:00', '17:00']\n",
    "    \n",
    "    for t in data[1:]:\n",
    "        tid.append(datetime.strptime(t[4], '%H:%M:%S').hour) #sorterar ut endast %H (hour) ur ett format ex. 15.32.23 och lägger in i lista tid\n",
    "    \n",
    "    counts = {x:tid.count(x) for x in tid} #räknas varje occurance (x) för nyckeln tid\n",
    "    \n",
    "    lists = sorted(counts.items()) # sorterar genom nycklar, returnerar en lista av tupler\n",
    "\n",
    "    x, y = zip(*lists) #packar upp en lista av par till två tupler, dock så behöver bara själva värdet (y) användas och inte själva nyckeln (x)\n",
    "\n",
    "    plt.plot(tidslinje, y)\n",
    "    \n",
    "    plt.title('Antal fordon per timma mellan kl. 07:00 och 17:00', fontsize= 12, fontweight='bold')\n",
    "    plt.xlabel('Tid', fontsize= 12, fontweight='bold')\n",
    "    plt.ylabel('Antal registrerade fordon', fontsize= 10, fontweight='bold')\n",
    "    \n",
    "    plt.grid()\n",
    "    plt.show()\n",
    "    \n",
    "bilar_timme(kameradata)\n"
   ]
  },
  {
   "cell_type": "markdown",
   "metadata": {},
   "source": [
    "## Deluppgift 6\n",
    "Ev. kommentar:"
   ]
  },
  {
   "cell_type": "code",
   "execution_count": null,
   "metadata": {},
   "outputs": [
    {
     "name": "stdout",
     "output_type": "stream",
     "text": [
      "1. Hämta data från fil (obs måste göras först 1 gång). [Upg1]\n",
      "2. Analysera data (öppnar en undermeny)\n",
      "3. Avsluta\n",
      "Välj menyalternativ (1-3) 1\n",
      "Mata in sökvägen för platsData.csv (tryck enter för default): \n",
      "Mata in sökvägen för kameraData.csv (tryck enter för default): \n",
      "Din data har laddats in!\n",
      "\n",
      "\n",
      "[['MätplatsID', 'Gällande Hastighet', 'Hastighet', 'Datum', 'Tid'], ['14075010', '40', '55', '2021-09-11', '11:15:31'], ['14075010', '40', '54', '2021-09-11', '08:09:17']]\n",
      "[['14002010', 'Bhpl Gestadvägen', 'E45', 'Vänersborg'], ['14002020', 'Bhpl Gestadvägen', 'E45', 'Vänersborg'], ['14002030', 'Bhpl Flybo', 'E45', 'Vänersborg']]\n",
      "\n",
      "\n",
      "1. Hämta data från fil (obs måste göras först 1 gång). [Upg1]\n",
      "2. Analysera data (öppnar en undermeny)\n",
      "3. Avsluta\n",
      "Välj menyalternativ (1-3) 2\n",
      "a. Antal bilar. [Upg2]\n",
      "b. Antal kameror. [Upg3]\n",
      "c. För fort. [Upg4]\n",
      "d. Bilar per timme. [Upg5]\n",
      "Välj menyalternativ (a, b, c, d): a\n",
      "\n",
      "Det finns 69 mätningar där gällande hastighet är 40 km/h\n",
      "Det finns 96 mätningar där gällande hastighet är 50 km/h\n",
      "Det finns 204 mätningar där gällande hastighet är 60 km/h\n",
      "Det finns 389 mätningar där gällande hastighet är 70 km/h\n",
      "Det finns 471 mätningar där gällande hastighet är 80 km/h\n",
      "Det finns 94 mätningar där gällande hastighet är 90 km/h\n",
      "------------------------------------------------------------\n",
      "Totalt passerade 1323 bilar.\n"
     ]
    },
    {
     "data": {
      "image/png": "[encoded data removed]",
      "text/plain": [
       "<Figure size 432x288 with 1 Axes>"
      ]
     },
     "metadata": {
      "needs_background": "light"
     },
     "output_type": "display_data"
    },
    {
     "name": "stdout",
     "output_type": "stream",
     "text": [
      "1. Hämta data från fil (obs måste göras först 1 gång). [Upg1]\n",
      "2. Analysera data (öppnar en undermeny)\n",
      "3. Avsluta\n",
      "Välj menyalternativ (1-3) 2\n",
      "a. Antal bilar. [Upg2]\n",
      "b. Antal kameror. [Upg3]\n",
      "c. För fort. [Upg4]\n",
      "d. Bilar per timme. [Upg5]\n",
      "Välj menyalternativ (a, b, c, d): b\n",
      "\n",
      "Kommun         Antal kameror\n",
      "------------------------------\n",
      "Alingsås             7         \n",
      "Bengtsfors           8         \n",
      "Essunga              3         \n",
      "Falköping            28        \n",
      "Grästorp             7         \n",
      "Gullspång            6         \n",
      "Göteborg             23        \n",
      "Götene               5         \n",
      "Hjo                  10        \n",
      "Härryda              6         \n",
      "Kungälv              17        \n",
      "Lerum                2         \n",
      "Lidköping            6         \n",
      "Lilla Edet           5         \n",
      "Lysekil              10        \n",
      "Mariestad            24        \n",
      "Mark                 19        \n",
      "Mellerud             7         \n",
      "Mölndal              8         \n",
      "Orust                13        \n",
      "Skara                4         \n",
      "Skövde               18        \n",
      "Sotenäs              9         \n",
      "Strömstad            6         \n",
      "Svenljunga           2         \n",
      "Tibro                4         \n",
      "Tidaholm             6         \n",
      "Tjörn                9         \n",
      "Tranemo              11        \n",
      "Trollhättan          11        \n",
      "Töreboda             6         \n",
      "Uddevalla            17        \n",
      "Ulricehamn           8         \n",
      "Vara                 6         \n",
      "Vänersborg           11        \n",
      "Vårgårda             15        \n",
      "------------------------------\n",
      "Det finns totalt 358 kameror.\n",
      "1. Hämta data från fil (obs måste göras först 1 gång). [Upg1]\n",
      "2. Analysera data (öppnar en undermeny)\n",
      "3. Avsluta\n",
      "Välj menyalternativ (1-3) 2\n",
      "a. Antal bilar. [Upg2]\n",
      "b. Antal kameror. [Upg3]\n",
      "c. För fort. [Upg4]\n",
      "d. Bilar per timme. [Upg5]\n",
      "Välj menyalternativ (a, b, c, d): c\n",
      "\n",
      "Tid           MätplatsID Gällande Hastighet Hastighet       Datum\n",
      "----------------------------------------------------------------------\n",
      "07:45:29       14039010       70             135            2021-09-11     \n",
      "12:06:26       14007040       80             224            2021-09-11     \n",
      "12:32:28       14090060       70             159            2021-09-11     \n",
      "13:19:09       14090050       70             145            2021-09-11     \n",
      "15:05:15       14048010       60             163            2021-09-11     \n",
      "15:24:40       14052030       70             157            2021-09-11     \n",
      "17:09:19       14093020       70             140            2021-09-11     \n",
      "17:12:20       14066040       70             140            2021-09-11     \n",
      "17:27:51       14093040       70             138            2021-09-11     \n",
      "17:43:19       14052010       70             150            2021-09-11     \n",
      "17:52:57       14052040       70             170            2021-09-11     \n",
      "17:54:43       14052010       70             173            2021-09-11     \n"
     ]
    },
    {
     "data": {
      "image/png": "[encoded data removed]",
      "text/plain": [
       "<Figure size 432x288 with 1 Axes>"
      ]
     },
     "metadata": {
      "needs_background": "light"
     },
     "output_type": "display_data"
    },
    {
     "name": "stdout",
     "output_type": "stream",
     "text": [
      "Hastighetsöverträdelserna skedde vid följande 12 platser.\n",
      "Tid          MätplatsID   Kommun       Vägnummer    Hastighet    \n",
      "-------------------------------------------------------------\n",
      "07:45:29     14039010     Skara           49           135\n",
      "12:06:26     14007040     Mariestad       E20          224\n",
      "12:32:28     14090060     Strömstad       1040         159\n",
      "13:19:09     14090050     Strömstad       1040         145\n",
      "15:05:15     14048010     Tjörn           169          163\n",
      "15:24:40     14052030     Göteborg        587          157\n",
      "17:09:19     14093020     Göteborg        E6.21        140\n",
      "17:12:20     14066040     Kungälv         625          140\n",
      "17:27:51     14093040     Göteborg        E6.21        138\n",
      "17:43:19     14052010     Göteborg        587          150\n",
      "17:52:57     14052040     Göteborg        587          170\n",
      "17:54:43     14052010     Göteborg        587          173\n",
      "1. Hämta data från fil (obs måste göras först 1 gång). [Upg1]\n",
      "2. Analysera data (öppnar en undermeny)\n",
      "3. Avsluta\n",
      "Välj menyalternativ (1-3) 2\n",
      "a. Antal bilar. [Upg2]\n",
      "b. Antal kameror. [Upg3]\n",
      "c. För fort. [Upg4]\n",
      "d. Bilar per timme. [Upg5]\n",
      "Välj menyalternativ (a, b, c, d): d\n",
      "\n"
     ]
    },
    {
     "data": {
      "image/png": "[encoded data removed]",
      "text/plain": [
       "<Figure size 432x288 with 1 Axes>"
      ]
     },
     "metadata": {
      "needs_background": "light"
     },
     "output_type": "display_data"
    },
    {
     "name": "stdout",
     "output_type": "stream",
     "text": [
      "1. Hämta data från fil (obs måste göras först 1 gång). [Upg1]\n",
      "2. Analysera data (öppnar en undermeny)\n",
      "3. Avsluta\n"
     ]
    }
   ],
   "source": [
    "def meny(): #skapar \"startmeny\" som kallas på direkt\n",
    "    print(\"1. Hämta data från fil (obs måste göras först 1 gång). [Upg1]\")\n",
    "    print(\"2. Analysera data (öppnar en undermeny)\")\n",
    "    print(\"3. Avsluta\")\n",
    "\n",
    "def undermeny(): #ritar ut undermeny vid val av meny(2)\n",
    "    print(\"a. Antal bilar. [Upg2]\")\n",
    "    print(\"b. Antal kameror. [Upg3]\")\n",
    "    print(\"c. För fort. [Upg4]\")\n",
    "    print(\"d. Bilar per timme. [Upg5]\")\n",
    "\n",
    "meny() #huvudmenyn kallas på direkt vid start\n",
    "\n",
    "val = int(input(\"Välj menyalternativ (1-3) \")) #Menyval genom input\n",
    "\n",
    "kameradatameny = None #skapar två tomma variabler dit data från csv-filerna sedan tilldelas\n",
    "platsdatameny = None\n",
    "\n",
    "while val != 3:   #Så länge input i \"val\" inte är 3, så körs nedan kod\n",
    "    \n",
    "    if val == 1:   \n",
    "        input_platsdata=input(\"Mata in sökvägen för platsData.csv (tryck enter för default): \")\n",
    "        input_kameradata=input(\"Mata in sökvägen för kameraData.csv (tryck enter för default): \")\n",
    "    \n",
    "        if input_platsdata == \"\" or \"platsData.csv\": #vid input platsdata så deklareras datan för platsdatameny (utan felkoll dock)\n",
    "            data = read_file(\"platsData.csv\")\n",
    "            platsdatameny = data[1:] #tilldelas data utan index 0\n",
    "        \n",
    "        if input_kameradata == \"\" or \"kameraData.csv\": #vid input kameradata så deklareras datan för kameradatameny (utan felkoll dock)\n",
    "            data = read_file(\"kameraData.csv\")\n",
    "            kameradatameny = data\n",
    "            \n",
    "        #bekräftelse på att datan har laddats in   \n",
    "        print(\"Din data har laddats in!\")\n",
    "        print(\"\\n\")\n",
    "        print(str(kameradatameny[0:3]))\n",
    "        print(str(platsdatameny[0:3]))\n",
    "        print(\"\\n\")\n",
    "\n",
    "            \n",
    "    elif val == 2: #enligt menyalternativ 2, så öppnas en undermeny\n",
    "        undermeny()\n",
    "        \n",
    "        input_undermeny = input(\"Välj menyalternativ (a, b, c, d): \")\n",
    "        \n",
    "        if input_undermeny == 'a': #vid input a så körs uppgift 2\n",
    "            print()\n",
    "            antal_bilar(kameradatameny)\n",
    "            plt.show()\n",
    "        \n",
    "        elif input_undermeny == 'b': #vid input b så körs uppgift 3\n",
    "            print()\n",
    "            antal_kameror(platsdatameny)\n",
    "        \n",
    "        elif input_undermeny == 'c': #vid input c så körs uppgift 4a/b/c\n",
    "            print()\n",
    "            plus_hastighet, procent_over = hastighetplus(kameradata)\n",
    "            hastighetplusdiagram(plus_hastighet, procent_over)\n",
    "            plt.show()\n",
    "            hastighetkommun(plus_hastighet, platsdata)\n",
    "            \n",
    "        elif input_undermeny == 'd': #vid input d så körs uppgift 5\n",
    "            print()\n",
    "            bilar_timme(kameradatameny)\n",
    "            plt.show()\n",
    "        \n",
    "    meny() #Skriver ut menyn efter varje input\n",
    "    val = int(input(\"Välj menyalternativ (1-3) \"))     \n",
    "    \n",
    "print('Programmet avslutas')\n"
   ]
  },
  {
   "cell_type": "code",
   "execution_count": null,
   "metadata": {},
   "outputs": [],
   "source": []
  },
  {
   "cell_type": "code",
   "execution_count": null,
   "metadata": {},
   "outputs": [],
   "source": []
  }
 ],
 "metadata": {
  "kernelspec": {
   "display_name": "Python 3 (ipykernel)",
   "language": "python",
   "name": "python3"
  },
  "language_info": {
   "codemirror_mode": {
    "name": "ipython",
    "version": 3
   },
   "file_extension": ".py",
   "mimetype": "text/x-python",
   "name": "python",
   "nbconvert_exporter": "python",
   "pygments_lexer": "ipython3",
   "version": "3.9.12"
  }
 },
 "nbformat": 4,
 "nbformat_minor": 2
}
